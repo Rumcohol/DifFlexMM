{
 "cells": [
  {
   "attachments": {},
   "cell_type": "markdown",
   "metadata": {},
   "source": [
    "# Process videos of free bending oscillations and extract damping ratio\n"
   ]
  },
  {
   "cell_type": "markdown",
   "metadata": {},
   "source": [
    "NOTE: Please download data associated to this repository from https://doi.org/10.5281/zenodo.12823471\n"
   ]
  },
  {
   "cell_type": "code",
   "execution_count": null,
   "metadata": {},
   "outputs": [],
   "source": [
    "from pathlib import Path\n",
    "import numpy as np\n",
    "from scripts.tracking.damping_ratio import get_damping_ratio\n",
    "import matplotlib.pyplot as plt\n",
    "plt.style.use([\"science\", \"grid\"])\n",
    "%matplotlib widget\n"
   ]
  },
  {
   "cell_type": "markdown",
   "metadata": {},
   "source": [
    "## Paths"
   ]
  },
  {
   "cell_type": "code",
   "execution_count": null,
   "metadata": {},
   "outputs": [],
   "source": [
    "# Where to load/save data\n",
    "data_folder = Path(\"../../data/damping_characterization_3dp_pla_shims\")\n"
   ]
  },
  {
   "attachments": {},
   "cell_type": "markdown",
   "metadata": {},
   "source": [
    "## Sample 1"
   ]
  },
  {
   "attachments": {},
   "cell_type": "markdown",
   "metadata": {},
   "source": [
    "### Experiment 1"
   ]
  },
  {
   "cell_type": "code",
   "execution_count": null,
   "metadata": {},
   "outputs": [],
   "source": [
    "get_damping_ratio(\n",
    "    video_path=f\"{data_folder}/videos/free_bending_oscillations_s1_1.mp4\",\n",
    "    calib_xy=(1, 1),\n",
    "    start_end_video=(0, 1000),\n",
    "    ROI_Y=(413, 656),\n",
    "    ROI_X=(717, 1186),\n",
    "    blur_size=1,\n",
    "    threshold=180,\n",
    "    framerate=960,\n",
    "    block_area=(200, 43600),\n",
    "    monitor_progress=False,\n",
    ")\n"
   ]
  },
  {
   "attachments": {},
   "cell_type": "markdown",
   "metadata": {},
   "source": [
    "### Experiment 2"
   ]
  },
  {
   "cell_type": "code",
   "execution_count": null,
   "metadata": {},
   "outputs": [],
   "source": [
    "get_damping_ratio(\n",
    "    video_path=f\"{data_folder}/videos/free_bending_oscillations_s1_2.mp4\",\n",
    "    calib_xy=(1, 1),\n",
    "    start_end_video=(0, 1000),\n",
    "    ROI_Y=(413, 656),\n",
    "    ROI_X=(717, 1186),\n",
    "    blur_size=1,\n",
    "    threshold=180,\n",
    "    framerate=960,\n",
    "    block_area=(200, 43600),\n",
    "    monitor_progress=False,\n",
    ")\n"
   ]
  },
  {
   "attachments": {},
   "cell_type": "markdown",
   "metadata": {},
   "source": [
    "### Experiment 3"
   ]
  },
  {
   "cell_type": "code",
   "execution_count": null,
   "metadata": {},
   "outputs": [],
   "source": [
    "get_damping_ratio(\n",
    "    video_path=f\"{data_folder}/videos/free_bending_oscillations_s1_3.mp4\",\n",
    "    calib_xy=(1, 1),\n",
    "    start_end_video=(0, 780),\n",
    "    ROI_Y=(413, 656),\n",
    "    ROI_X=(717, 1186),\n",
    "    blur_size=1,\n",
    "    threshold=180,\n",
    "    framerate=960,\n",
    "    block_area=(200, 43600),\n",
    "    monitor_progress=False,\n",
    ")\n"
   ]
  },
  {
   "attachments": {},
   "cell_type": "markdown",
   "metadata": {},
   "source": [
    "## Sample 2"
   ]
  },
  {
   "attachments": {},
   "cell_type": "markdown",
   "metadata": {},
   "source": [
    "### Experiment 1"
   ]
  },
  {
   "cell_type": "code",
   "execution_count": null,
   "metadata": {},
   "outputs": [],
   "source": [
    "get_damping_ratio(\n",
    "    video_path=f\"{data_folder}/videos/free_bending_oscillations_s2_1.mp4\",\n",
    "    calib_xy=(1, 1),\n",
    "    start_end_video=(0, 800),\n",
    "    ROI_Y=(413, 656),\n",
    "    ROI_X=(717, 1186),\n",
    "    blur_size=1,\n",
    "    threshold=80,\n",
    "    framerate=960,\n",
    "    block_area=(200, 43600),\n",
    "    monitor_progress=False,\n",
    ")\n"
   ]
  },
  {
   "attachments": {},
   "cell_type": "markdown",
   "metadata": {},
   "source": [
    "### Experiment 2"
   ]
  },
  {
   "cell_type": "code",
   "execution_count": null,
   "metadata": {},
   "outputs": [],
   "source": [
    "get_damping_ratio(\n",
    "    video_path=f\"{data_folder}/videos/free_bending_oscillations_s2_2.mp4\",\n",
    "    calib_xy=(1, 1),\n",
    "    start_end_video=(0, 800),\n",
    "    ROI_Y=(413, 656),\n",
    "    ROI_X=(717, 1186),\n",
    "    blur_size=1,\n",
    "    threshold=80,\n",
    "    framerate=960,\n",
    "    block_area=(200, 43600),\n",
    "    monitor_progress=False,\n",
    ")\n"
   ]
  },
  {
   "attachments": {},
   "cell_type": "markdown",
   "metadata": {},
   "source": [
    "### Experiment 3"
   ]
  },
  {
   "cell_type": "code",
   "execution_count": null,
   "metadata": {},
   "outputs": [],
   "source": [
    "get_damping_ratio(\n",
    "    video_path=f\"{data_folder}/videos/free_bending_oscillations_s2_3.mp4\",\n",
    "    calib_xy=(1, 1),\n",
    "    start_end_video=(0, 750),\n",
    "    ROI_Y=(413, 656),\n",
    "    ROI_X=(717, 1186),\n",
    "    blur_size=1,\n",
    "    threshold=80,\n",
    "    framerate=960,\n",
    "    block_area=(200, 43600),\n",
    "    monitor_progress=False,\n",
    ")\n"
   ]
  },
  {
   "attachments": {},
   "cell_type": "markdown",
   "metadata": {},
   "source": [
    "## Sample 3"
   ]
  },
  {
   "attachments": {},
   "cell_type": "markdown",
   "metadata": {},
   "source": [
    "### Experiment 1"
   ]
  },
  {
   "cell_type": "code",
   "execution_count": null,
   "metadata": {},
   "outputs": [],
   "source": [
    "get_damping_ratio(\n",
    "    video_path=f\"{data_folder}/videos/free_bending_oscillations_s3_1.mp4\",\n",
    "    calib_xy=(1, 1),\n",
    "    start_end_video=(0, 1000),\n",
    "    ROI_Y=(413, 656),\n",
    "    ROI_X=(717, 1186),\n",
    "    blur_size=1,\n",
    "    threshold=180,\n",
    "    framerate=960,\n",
    "    block_area=(200, 43600),\n",
    "    monitor_progress=False,\n",
    ")\n"
   ]
  },
  {
   "attachments": {},
   "cell_type": "markdown",
   "metadata": {},
   "source": [
    "### Experiment 2"
   ]
  },
  {
   "cell_type": "code",
   "execution_count": null,
   "metadata": {},
   "outputs": [],
   "source": [
    "get_damping_ratio(\n",
    "    video_path=f\"{data_folder}/videos/free_bending_oscillations_s3_2.mp4\",\n",
    "    calib_xy=(1, 1),\n",
    "    start_end_video=(0, 1000),\n",
    "    ROI_Y=(413, 656),\n",
    "    ROI_X=(717, 1186),\n",
    "    blur_size=1,\n",
    "    threshold=180,\n",
    "    framerate=960,\n",
    "    block_area=(200, 43600),\n",
    "    monitor_progress=False,\n",
    ")\n"
   ]
  },
  {
   "attachments": {},
   "cell_type": "markdown",
   "metadata": {},
   "source": [
    "## Stats"
   ]
  },
  {
   "cell_type": "code",
   "execution_count": null,
   "metadata": {},
   "outputs": [],
   "source": [
    "# Select all files in videos folder\n",
    "video_paths = sorted(Path(f\"{data_folder}/videos/\").glob(\"*.mp4\"))\n",
    "video_paths\n"
   ]
  },
  {
   "cell_type": "code",
   "execution_count": null,
   "metadata": {},
   "outputs": [],
   "source": [
    "thresholds = [180, 180, 180, 80, 80, 80, 180, 180]\n",
    "start_end_videos = [(0, 590), (0, 600), (0, 605), (0, 605), (0, 600), (0, 605), (0, 605), (0, 590)]\n",
    "\n",
    "zetas = []\n",
    "omegas = []\n",
    "\n",
    "for video_path, threshold, start_end_video in zip(video_paths, thresholds, start_end_videos):\n",
    "    zeta, omega_d = get_damping_ratio(\n",
    "        video_path=str(video_path),\n",
    "        calib_xy=(1, 1),\n",
    "        start_end_video=start_end_video,\n",
    "        ROI_Y=(413, 656),\n",
    "        ROI_X=(717, 1186),\n",
    "        blur_size=1,\n",
    "        threshold=threshold,\n",
    "        framerate=960,\n",
    "        block_area=(200, 43600),\n",
    "        monitor_progress=False,\n",
    "    )\n",
    "    zetas.append(zeta)\n",
    "    omegas.append(omega_d)\n",
    "\n",
    "print(f\"zetas = {zetas}\")\n",
    "print(f\"omegas = {omegas}\")\n",
    "# Print mean and standard deviation\n",
    "print(f\"zeta = {np.mean(zetas):.4f} ± {np.std(zetas):.4f}\")\n",
    "print(f\"omega_d = {np.mean(omegas):.2f} ± {np.std(omegas):.2f}\")\n"
   ]
  },
  {
   "cell_type": "code",
   "execution_count": null,
   "metadata": {},
   "outputs": [],
   "source": []
  }
 ],
 "metadata": {
  "kernelspec": {
   "display_name": "Python 3.9.13 ('blockymetamaterials-fbuxbt7l-py3.9')",
   "language": "python",
   "name": "python3"
  },
  "language_info": {
   "codemirror_mode": {
    "name": "ipython",
    "version": 3
   },
   "file_extension": ".py",
   "mimetype": "text/x-python",
   "name": "python",
   "nbconvert_exporter": "python",
   "pygments_lexer": "ipython3",
   "version": "3.9.16"
  },
  "orig_nbformat": 4,
  "vscode": {
   "interpreter": {
    "hash": "83985420a0d4a7a679338c2d3f27e2474e4cb49ae901aab1edc9dd4bfc3b75c9"
   }
  }
 },
 "nbformat": 4,
 "nbformat_minor": 2
}
