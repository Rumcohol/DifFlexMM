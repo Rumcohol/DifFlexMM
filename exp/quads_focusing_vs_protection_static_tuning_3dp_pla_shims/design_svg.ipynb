{
 "cells": [
  {
   "attachments": {},
   "cell_type": "markdown",
   "metadata": {},
   "source": [
    "# Design files: Quads design (3dp pla + blue shims) for switching between focusing and protection\n"
   ]
  },
  {
   "cell_type": "markdown",
   "metadata": {},
   "source": [
    "NOTE: Please download data associated to this repository from https://doi.org/10.5281/zenodo.12823471\n"
   ]
  },
  {
   "attachments": {},
   "cell_type": "markdown",
   "metadata": {},
   "source": [
    "## Imports"
   ]
  },
  {
   "cell_type": "code",
   "execution_count": 3,
   "metadata": {},
   "outputs": [],
   "source": [
    "from difflexmm.utils import load_data\n",
    "from scripts.fabrication import generate_clamped_sample_continuous_bond_drawing\n",
    "from problems.quads_kinetic_energy_static_tuning import OptimizationProblem\n",
    "from pathlib import Path\n",
    "\n",
    "import jax.numpy as jnp\n"
   ]
  },
  {
   "cell_type": "markdown",
   "metadata": {},
   "source": [
    "## Paths"
   ]
  },
  {
   "cell_type": "code",
   "execution_count": 4,
   "metadata": {},
   "outputs": [],
   "source": [
    "# Where to load/save data\n",
    "data_folder = Path(\"../../data/quads_focusing_vs_protection_static_tuning_3dp_pla_shims\")\n"
   ]
  },
  {
   "cell_type": "markdown",
   "metadata": {},
   "source": [
    "## Problem info"
   ]
  },
  {
   "cell_type": "markdown",
   "metadata": {},
   "source": [
    "NOTE: Either define the problem info here or load it from an optimization file."
   ]
  },
  {
   "cell_type": "code",
   "execution_count": 7,
   "metadata": {},
   "outputs": [],
   "source": [
    "# NOTE: Units are mm, N, s\n",
    "\n",
    "# Retrieve design info from optimization data\n",
    "optimization_filename = f\"opt_with_angle_30_and_length_3_constraints_quads_24x18_excited_blocks_2_amplitude_7.50_loading_rate_30.00_input_shift_0_initial_angle_25.0_target_size_(2, 2)_target_shifts_((2, 2), (2, 2))_compressive_strains_(0.01, 0.08)_weights_(0.75, -0.25)\"\n",
    "optimization = OptimizationProblem.from_dict(\n",
    "    load_data(\n",
    "        f\"{data_folder}/{optimization_filename}.pkl\",\n",
    "    )\n",
    ")\n",
    "problem = optimization.forward_problem\n",
    "# Set up the forward problem to get the geometry\n",
    "problem.setup()\n",
    "geometry = problem.geometry\n",
    "\n",
    "# Select the best design\n",
    "design_values = optimization.design_values[-1]\n"
   ]
  },
  {
   "cell_type": "markdown",
   "metadata": {},
   "source": [
    "## Drawings"
   ]
  },
  {
   "cell_type": "code",
   "execution_count": 8,
   "metadata": {},
   "outputs": [
    {
     "name": "stdout",
     "output_type": "stream",
     "text": [
      "Design size is 370.60x294.40 mm\n",
      "Saved at ../../data/quads_focusing_vs_protection_static_tuning_3dp_pla_shims/opt_with_angle_30_and_length_3_constraints_quads_24x18_excited_blocks_2_amplitude_7.50_loading_rate_30.00_input_shift_0_initial_angle_25.0_target_size_(2, 2)_target_shifts_((2, 2), (2, 2))_compressive_strains_(0.01, 0.08)_weights_(0.75, -0.25)/svgs/opt_with_angle_30_and_length_3_constraints_quads_24x18_excited_blocks_2_amplitude_7.50_loading_rate_30.00_input_shift_0_initial_angle_25.0_target_size_(2, 2)_target_shifts_((2, 2), (2, 2))_compressive_strains_(0.01, 0.08)_weights_(0.75, -0.25).svg\n"
     ]
    }
   ],
   "source": [
    "generate_clamped_sample_continuous_bond_drawing(\n",
    "    geometry=geometry,\n",
    "    block_centroids=geometry.block_centroids(*design_values),\n",
    "    centroid_node_vectors=geometry.centroid_node_vectors(*design_values),\n",
    "    bond_connectivity=geometry.bond_connectivity(),\n",
    "    reference_bond_vectors=geometry.reference_bond_vectors(),\n",
    "    n_blocks_clamped_corners=1,\n",
    "    attachment_size=(15, 15),\n",
    "    attachment_hole_size=4.2,\n",
    "    offset_type=\"constant\",  # [\"ratio\", \"constant\"]\n",
    "    offset_size=3,\n",
    "    path_orientation=\"column\",\n",
    "    out_file=f\"{data_folder}/{optimization_filename}/svgs/{optimization_filename}.svg\",\n",
    ")\n"
   ]
  },
  {
   "cell_type": "code",
   "execution_count": null,
   "metadata": {},
   "outputs": [],
   "source": []
  }
 ],
 "metadata": {
  "kernelspec": {
   "display_name": "blockymetamaterials-fbuxbt7l-py3.9",
   "language": "python",
   "name": "python3"
  },
  "language_info": {
   "codemirror_mode": {
    "name": "ipython",
    "version": 3
   },
   "file_extension": ".py",
   "mimetype": "text/x-python",
   "name": "python",
   "nbconvert_exporter": "python",
   "pygments_lexer": "ipython3",
   "version": "3.9.16"
  },
  "orig_nbformat": 4
 },
 "nbformat": 4,
 "nbformat_minor": 2
}
