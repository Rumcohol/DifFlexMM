{
 "cells": [
  {
   "attachments": {},
   "cell_type": "markdown",
   "metadata": {},
   "source": [
    "# Quads design (3dp pla + blue shims) for angular momentum design with single target region\n"
   ]
  },
  {
   "cell_type": "markdown",
   "metadata": {},
   "source": [
    "## Imports"
   ]
  },
  {
   "cell_type": "code",
   "execution_count": 1,
   "metadata": {},
   "outputs": [
    {
     "name": "stderr",
     "output_type": "stream",
     "text": [
      "No GPU/TPU found, falling back to CPU. (Set TF_CPP_MIN_LOG_LEVEL=0 and rerun for more info.)\n"
     ]
    }
   ],
   "source": [
    "from difflexmm.utils import save_data, load_data\n",
    "from difflexmm.geometry import QuadGeometry\n",
    "from difflexmm.plotting import generate_animation, generate_frames, plot_geometry\n",
    "from problems.quads_spin import ForwardProblem, OptimizationProblem, ForwardInput\n",
    "import matplotlib.pyplot as plt\n",
    "import matplotlib\n",
    "from matplotlib import cm\n",
    "from pathlib import Path\n",
    "\n",
    "import jax.numpy as jnp\n",
    "from jax.config import config\n",
    "config.update(\"jax_enable_x64\", True)  # enable float64 type\n",
    "# config.update(\"jax_log_compiles\", 1)\n",
    "\n",
    "plt.style.use([\"science\", \"grid\"])\n",
    "%matplotlib widget\n"
   ]
  },
  {
   "cell_type": "markdown",
   "metadata": {},
   "source": [
    "## Plotting functions\n"
   ]
  },
  {
   "cell_type": "code",
   "execution_count": 2,
   "metadata": {},
   "outputs": [],
   "source": [
    "from matplotlib.collections import LineCollection\n",
    "\n",
    "\n",
    "def plot_target_motion(optimization: OptimizationProblem, figsize=(3, 3), fontsize=16, linewidth=2, cmap=cm.Oranges, line_timepoints=None, arrow_timepoints=None, color=None, annotate=False):\n",
    "    if not optimization.is_setup:\n",
    "        optimization.setup_objective()\n",
    "\n",
    "    fig, axes = plt.subplots(figsize=figsize, constrained_layout=True)\n",
    "    axes.set_position([0.25, 0.25, 0.74, 0.74])\n",
    "    # Color line based on time\n",
    "    points = optimization.forward_problem.solution_data.fields[:,\n",
    "                                                               0, optimization.target_blocks, :2].mean(axis=1)\n",
    "    if line_timepoints is not None:\n",
    "        points = points[line_timepoints]\n",
    "    else:\n",
    "        line_timepoints = jnp.arange(len(points))\n",
    "    # Create line segments\n",
    "    segments = jnp.concatenate([points[:-1, None], points[1:, None]], axis=1)\n",
    "    lines = LineCollection(\n",
    "        segments,\n",
    "        array=optimization.forward_problem.solution_data.timepoints[line_timepoints[:len(\n",
    "            segments)]],\n",
    "        cmap=cmap,\n",
    "        norm=plt.Normalize(\n",
    "            0, optimization.forward_problem.solution_data.timepoints[-1]),\n",
    "        linewidths=linewidth,\n",
    "        zorder=10,\n",
    "        antialiased=True,\n",
    "    )\n",
    "    if color is not None:\n",
    "        lines = LineCollection(\n",
    "            [points],\n",
    "            colors=color,\n",
    "            linewidths=linewidth,\n",
    "            zorder=10,\n",
    "            antialiased=True,\n",
    "        )\n",
    "\n",
    "    axes.add_collection(lines)\n",
    "    if arrow_timepoints is not None:\n",
    "        axes.scatter(\n",
    "            optimization.forward_problem.solution_data.fields[arrow_timepoints, 0][:, optimization.target_blocks, 0].mean(\n",
    "                axis=1),\n",
    "            optimization.forward_problem.solution_data.fields[arrow_timepoints, 0][:, optimization.target_blocks, 1].mean(\n",
    "                axis=1),\n",
    "            s=60,\n",
    "            color=cmap(1.),\n",
    "            zorder=20,\n",
    "            edgecolor=\"white\",\n",
    "            linewidth=1.,\n",
    "        )\n",
    "        axes.quiver(\n",
    "            optimization.forward_problem.solution_data.fields[arrow_timepoints, 0][:, optimization.target_blocks, 0].mean(\n",
    "                axis=1),\n",
    "            optimization.forward_problem.solution_data.fields[arrow_timepoints, 0][:, optimization.target_blocks, 1].mean(\n",
    "                axis=1),\n",
    "            optimization.forward_problem.solution_data.fields[arrow_timepoints, 1][:, optimization.target_blocks, 0].mean(\n",
    "                axis=1),\n",
    "            optimization.forward_problem.solution_data.fields[arrow_timepoints, 1][:, optimization.target_blocks, 1].mean(\n",
    "                axis=1),\n",
    "            scale=300,\n",
    "            scale_units=\"xy\",\n",
    "            width=0.02,\n",
    "            color=cmap(1.),\n",
    "            zorder=10,\n",
    "            edgecolor=\"white\",\n",
    "            linewidth=1.,\n",
    "        )\n",
    "        # Annotate the arrows\n",
    "        if annotate:\n",
    "            for i, t in enumerate(arrow_timepoints):\n",
    "                axes.text(\n",
    "                    optimization.forward_problem.solution_data.fields[t, 0, optimization.target_blocks, 0].mean(\n",
    "                    ),\n",
    "                    optimization.forward_problem.solution_data.fields[t, 0, optimization.target_blocks, 1].mean(\n",
    "                    ),\n",
    "                    f\"${i}$\",\n",
    "                    fontsize=fontsize,\n",
    "                    zorder=20,\n",
    "                )\n",
    "\n",
    "    axes.axis(\"equal\")\n",
    "    x_ext = axes.get_xlim()[1] - axes.get_xlim()[0]\n",
    "    y_ext = axes.get_ylim()[1] - axes.get_ylim()[0]\n",
    "    axes.set(xlim=(axes.get_xlim()[0]-0.1*x_ext, axes.get_xlim()[1]+0.1*x_ext),\n",
    "             ylim=(axes.get_ylim()[0]-0.1*y_ext, axes.get_ylim()[1]+0.1*y_ext))\n",
    "    axes.set_xlabel(r\"$x$ [mm]\", fontsize=fontsize)\n",
    "    axes.set_ylabel(r\"$y$ [mm]\", fontsize=fontsize)\n",
    "    axes.grid(False)\n",
    "    axes.axhline(y=0, color=\"black\", lw=1, zorder=0)\n",
    "    axes.axvline(x=0, color=\"black\", lw=1, zorder=0)\n",
    "    for spine in axes.spines.values():\n",
    "        spine.set_linewidth(1)\n",
    "    axes.tick_params(labelsize=fontsize-2)\n",
    "\n",
    "    return fig, axes"
   ]
  },
  {
   "attachments": {},
   "cell_type": "markdown",
   "metadata": {},
   "source": [
    "## Optimal design and response\n"
   ]
  },
  {
   "cell_type": "code",
   "execution_count": 3,
   "metadata": {},
   "outputs": [],
   "source": [
    "# NOTE: Units are mm, N, s\n",
    "\n",
    "# Geometrical params\n",
    "n1_blocks = 24\n",
    "n2_blocks = 16\n",
    "spacing = 15.  # 1.0  # 15 mm\n",
    "hinge_length = 0.15*spacing  # Same as bond length\n",
    "initial_angle = 25*jnp.pi/180\n",
    "horizontal_shifts, vertical_shifts = QuadGeometry(n1_blocks, n2_blocks, spacing=spacing, bond_length=hinge_length).get_design_from_rotated_square(\n",
    "    angle=initial_angle,\n",
    ")  # Initial design\n",
    "\n",
    "# Mechanical params\n",
    "k_stretch = 120.  # stretching stiffness 120. N/mm\n",
    "k_shear = 1.19  # shearing stiffness 1.19 N/mm\n",
    "k_rot = 1.50  # rotational stiffness 1.50 Nmm\n",
    "density = 6.18e-9  # Mg/mm^2\n",
    "# NOTE: Damping is assumed to be the same for all blocks as it is small enough that the inertia change during optimization is negligible.\n",
    "# The reference is taken to be zero angle rotated square geometry.\n",
    "# 0.36125, 0.02175026 = mass and inertia of a single square of zero angle and unitary spacing and density and 0.15 bond length.\n",
    "damping = 0.0186 * jnp.array([\n",
    "    2 * (0.36125 * density * spacing**2 * k_shear)**0.5,\n",
    "    2 * (0.36125 * density * spacing**2 * k_shear)**0.5,\n",
    "    2 * (0.02175026 * density * spacing**4 * k_rot)**0.5\n",
    "]) * jnp.ones((n1_blocks*n2_blocks, 3))\n",
    "\n",
    "# Dynamic loading\n",
    "amplitude = 0.5 * spacing\n",
    "loading_rate = 30.  # Hz loading frequency for dynamic input\n",
    "\n",
    "# Forward problem\n",
    "problem = ForwardProblem(\n",
    "    # Geometrical params\n",
    "    n1_blocks=n1_blocks,\n",
    "    n2_blocks=n2_blocks,\n",
    "    spacing=spacing,\n",
    "    bond_length=hinge_length,\n",
    "    # Mechanical params\n",
    "    k_stretch=k_stretch,\n",
    "    k_shear=k_shear,\n",
    "    k_rot=k_rot,\n",
    "    density=density,\n",
    "    damping=damping,\n",
    "    use_contact=True,\n",
    "    k_contact=k_rot,\n",
    "    min_angle=-15*jnp.pi/180,\n",
    "    cutoff_angle=-10*jnp.pi/180,\n",
    "    # Dynamic loading\n",
    "    amplitude=amplitude,\n",
    "    loading_rate=loading_rate,\n",
    "    input_delay=0.1*loading_rate**-1,\n",
    "    n_excited_blocks=2,\n",
    "    loaded_side=\"bottom\",\n",
    "    input_shift=4,\n",
    "    # Analysis params\n",
    "    simulation_time=5*loading_rate**-1,  # s\n",
    "    n_timepoints=5*50, # 5 cycles\n",
    "    # Solver tolerances\n",
    "    atol=1e-4,\n",
    "    # Problem name (folder name)\n",
    "    name=\"quads_spin_3dp_pla_shims\",\n",
    ")\n",
    "\n",
    "# Forward input\n",
    "forward_input = ForwardInput(\n",
    "    horizontal_shifts=horizontal_shifts,\n",
    "    vertical_shifts=vertical_shifts,\n",
    ")\n",
    "# Optimization problem\n",
    "target_size = (2, 2)\n",
    "target_shift = (-3, 3)\n",
    "optimization = OptimizationProblem(\n",
    "    forward_problem=problem,\n",
    "    forward_input=forward_input,\n",
    "    target_size=target_size,\n",
    "    target_shift=target_shift,\n",
    "    spin_center=\"center\",\n",
    "    goal=\"min\",\n",
    "    name=problem.name,\n",
    ")\n",
    "\n",
    "problem_filename = f\"quads{'_linearized_strains' if problem.linearized_strains else ''}_{problem.n1_blocks}x{problem.n2_blocks}_loaded_{problem.loaded_side}_excited_blocks_{problem.n_excited_blocks}_amplitude_{problem.amplitude:.2f}_loading_rate_{problem.loading_rate:.2f}_input_shift_{problem.input_shift}_initial_angle_{initial_angle*180/jnp.pi:.1f}\"\n",
    "optimization_filename = f\"opt_{optimization.goal}_with_angle_30_and_length_3_constraints_{problem_filename}_target_size_{optimization.target_size[0]}x{optimization.target_size[1]}_target_shift_{optimization.target_shift[0]}x{optimization.target_shift[1]}_spin_center_{optimization.spin_center}\"\n"
   ]
  },
  {
   "cell_type": "markdown",
   "metadata": {},
   "source": [
    "### Import most recent optimization object\n"
   ]
  },
  {
   "cell_type": "code",
   "execution_count": 4,
   "metadata": {},
   "outputs": [],
   "source": [
    "optimization = OptimizationProblem.from_dict(\n",
    "    load_data(\n",
    "        f\"../data/{optimization.name}/{optimization_filename}.pkl\",\n",
    "    )\n",
    ")\n"
   ]
  },
  {
   "attachments": {},
   "cell_type": "markdown",
   "metadata": {},
   "source": [
    "### Run optimization\n"
   ]
  },
  {
   "cell_type": "code",
   "execution_count": null,
   "metadata": {},
   "outputs": [],
   "source": [
    "optimization.run_optimization_nlopt(\n",
    "    initial_guess=(forward_input.horizontal_shifts, forward_input.vertical_shifts),\n",
    "    # initial_guess=optimization.design_values[-1],\n",
    "    n_iterations=60,\n",
    "    min_block_angle=30*jnp.pi/180,\n",
    "    min_void_angle=0*jnp.pi/180,\n",
    "    min_edge_length=3.,  # mm\n",
    "    max_time=4*60*60,  # 8 hour\n",
    "    # lower_bound=-0.22*optimization.forward_problem.spacing,\n",
    "    # upper_bound=0.22*optimization.forward_problem.spacing,\n",
    ")\n",
    "\n",
    "save_data(\n",
    "    f\"../data/{optimization.name}/{optimization_filename}.pkl\",\n",
    "    optimization.to_dict()  # Optimization problem\n",
    ")\n"
   ]
  },
  {
   "attachments": {},
   "cell_type": "markdown",
   "metadata": {},
   "source": [
    "### Plots"
   ]
  },
  {
   "cell_type": "code",
   "execution_count": 5,
   "metadata": {},
   "outputs": [],
   "source": [
    "optimization = OptimizationProblem.from_dict(\n",
    "    load_data(\n",
    "        f\"../data/{optimization.name}/{optimization_filename}.pkl\",\n",
    "    )\n",
    ")"
   ]
  },
  {
   "cell_type": "markdown",
   "metadata": {},
   "source": [
    "### Plot objective function"
   ]
  },
  {
   "cell_type": "code",
   "execution_count": null,
   "metadata": {},
   "outputs": [],
   "source": [
    "fig, axes = plt.subplots(nrows=3, figsize=(10, 7), sharex=True)\n",
    "axes[0].set(ylabel=\"Objective\")\n",
    "axes[0].plot(optimization.objective_values, lw=3, color=\"#2980b9\")\n",
    "axes[1].set(ylabel=\"Angle constraints violation\")\n",
    "axes[1].plot(optimization.constraints_violation[\"angles\"], lw=3, color=\"#c0392b\")\n",
    "axes[1].axhline(y=0, color=\"black\")\n",
    "axes[2].set(xlabel=\"Iteration\", ylabel=\"Edge length constraints violation\")\n",
    "axes[2].plot(optimization.constraints_violation[\"edge_lengths\"], lw=3, color=\"#c0392b\")\n",
    "axes[2].axhline(y=0, color=\"black\")\n",
    "fig.tight_layout()\n",
    "\n",
    "path = Path(\n",
    "    f\"../out/{optimization.name}/{optimization_filename}/objective_iterations.png\")\n",
    "path.parent.mkdir(parents=True, exist_ok=True)  # Make sure parents directories exist\n",
    "fig.savefig(str(path), dpi=300)\n"
   ]
  },
  {
   "cell_type": "markdown",
   "metadata": {},
   "source": [
    "### Optimized design"
   ]
  },
  {
   "cell_type": "code",
   "execution_count": null,
   "metadata": {},
   "outputs": [],
   "source": [
    "problem = optimization.forward_problem\n",
    "problem.setup()\n",
    "design_values = optimization.design_values[-1]\n",
    "\n",
    "xlim, ylim = problem.geometry.get_xy_limits(\n",
    "    *design_values) + 0.5*problem.geometry.spacing * jnp.array([-1, 1])\n",
    "fig, ax = plot_geometry(\n",
    "    block_centroids=problem.geometry.block_centroids(*design_values),\n",
    "    centroid_node_vectors=problem.geometry.centroid_node_vectors(\n",
    "        *design_values),\n",
    "    bond_connectivity=problem.geometry.bond_connectivity(),\n",
    "    xlim=xlim,\n",
    "    ylim=ylim,\n",
    "    figsize=(6, 6*16/24),\n",
    ")\n",
    "ax.axis(\"off\")\n",
    "\n",
    "path = Path(\n",
    "    f\"../out/{optimization.name}/{optimization_filename}/best_design.png\")\n",
    "# Make sure parents directories exist\n",
    "path.parent.mkdir(parents=True, exist_ok=True)\n",
    "fig.savefig(str(path), dpi=300)"
   ]
  },
  {
   "cell_type": "markdown",
   "metadata": {},
   "source": [
    "### Target region trajectory"
   ]
  },
  {
   "cell_type": "code",
   "execution_count": null,
   "metadata": {},
   "outputs": [],
   "source": [
    "cmap = matplotlib.colors.LinearSegmentedColormap.from_list(\n",
    "    \"pareto\",\n",
    "    (\"#ecf0f1\", \"#0652DD\") if optimization.goal == \"min\" else (\"#ecf0f1\", \"#009432\"),\n",
    ")\n",
    "arrow_timepoints = jnp.array([-33-1, -1-17, -1])\n",
    "fig, axes = plot_target_motion(\n",
    "    optimization,\n",
    "    fontsize=16,\n",
    "    linewidth=2.5,\n",
    "    figsize=(3, 3),\n",
    "    cmap=cmap,\n",
    "    arrow_timepoints=arrow_timepoints,\n",
    ")\n",
    "path = Path(\n",
    "    f\"../out/{optimization.name}/{optimization_filename}/target_motion.png\")\n",
    "# Make sure parents directories exist\n",
    "path.parent.mkdir(parents=True, exist_ok=True)\n",
    "fig.savefig(str(path), dpi=300)"
   ]
  },
  {
   "cell_type": "code",
   "execution_count": null,
   "metadata": {},
   "outputs": [],
   "source": [
    "cmap = matplotlib.colors.LinearSegmentedColormap.from_list(\n",
    "    \"pareto\",\n",
    "    (\"#ecf0f1\", \"#0652DD\") if optimization.goal == \"min\" else (\"#ecf0f1\", \"#009432\"),\n",
    ")\n",
    "arrow_timepoints = jnp.array([-33-1, -1-17, -1])\n",
    "fig, axes = plot_target_motion(\n",
    "    optimization,\n",
    "    fontsize=16,\n",
    "    linewidth=2.5,\n",
    "    figsize=(3, 3),\n",
    "    cmap=cmap,\n",
    "    arrow_timepoints=arrow_timepoints,\n",
    "    line_timepoints=jnp.arange(-52, -1),\n",
    "    color=cmap(1.),\n",
    "    annotate=True,\n",
    ")\n",
    "# Increase xylim by 10%\n",
    "x_ext = axes.get_xlim()[1] - axes.get_xlim()[0]\n",
    "y_ext = axes.get_ylim()[1] - axes.get_ylim()[0]\n",
    "axes.set(xlim=(axes.get_xlim()[0]-0.1*x_ext, axes.get_xlim()[1]+0.1*x_ext),\n",
    "         ylim=(axes.get_ylim()[0]-0.1*y_ext, axes.get_ylim()[1]+0.1*y_ext))\n",
    "path = Path(\n",
    "    f\"../out/{optimization.name}/{optimization_filename}/target_motion_steady.svg\")\n",
    "# Make sure parents directories exist\n",
    "path.parent.mkdir(parents=True, exist_ok=True)\n",
    "fig.savefig(str(path), dpi=300)"
   ]
  },
  {
   "cell_type": "markdown",
   "metadata": {},
   "source": [
    "### Snapshots"
   ]
  },
  {
   "cell_type": "code",
   "execution_count": 182,
   "metadata": {},
   "outputs": [],
   "source": [
    "arrow_timepoints = jnp.array([-33-1, -1-17, -1])\n",
    "\n",
    "design_value = optimization.design_values[-1]\n",
    "xlim, ylim = optimization.forward_problem.geometry.get_xy_limits(\n",
    "    *design_value) + 3*optimization.forward_problem.geometry.spacing * jnp.array([[-1, 1], [-1, 1]])\n",
    "\n",
    "generate_frames(\n",
    "    optimization.forward_problem.solution_data,\n",
    "    field=\"v\",\n",
    "    deformed=True,\n",
    "    out_dir=f\"../out/{optimization.name}/{optimization_filename}/snapshots\",\n",
    "    xlim=xlim,\n",
    "    ylim=ylim,\n",
    "    figsize=(6.5, 6*16/24),\n",
    "    frame_range=arrow_timepoints,\n",
    "    dpi=300,\n",
    "    grid=False,\n",
    "    axis=False,\n",
    "    cmap=\"inferno\",\n",
    "    legend_label=r\"Velocity [mm/s]\",\n",
    ")"
   ]
  },
  {
   "cell_type": "markdown",
   "metadata": {},
   "source": [
    "### Animation"
   ]
  },
  {
   "cell_type": "code",
   "execution_count": null,
   "metadata": {},
   "outputs": [],
   "source": [
    "design_value = optimization.design_values[-1]\n",
    "xlim, ylim = optimization.forward_problem.geometry.get_xy_limits(*design_value) + 0.5*optimization.forward_problem.geometry.spacing * jnp.array([-1, 1])\n",
    "\n",
    "generate_animation(\n",
    "    optimization.forward_problem.solution_data,\n",
    "    field=\"v\",\n",
    "    deformed=True,\n",
    "    out_filename=f\"../out/{optimization.name}/{optimization_filename}/animation\",\n",
    "    xlim=xlim,\n",
    "    ylim=ylim,\n",
    "    figsize=(6.5, 6*16/24),\n",
    "    frame_range=jnp.arange(0, optimization.forward_problem.n_timepoints, 1),\n",
    "    dpi=300,\n",
    "    fps=30,\n",
    "    grid=False,\n",
    "    axis=False,\n",
    "    cmap=\"inferno\",\n",
    "    legend_label=r\"Velocity [mm/s]\",\n",
    ")\n"
   ]
  },
  {
   "cell_type": "code",
   "execution_count": null,
   "metadata": {},
   "outputs": [],
   "source": []
  }
 ],
 "metadata": {
  "kernelspec": {
   "display_name": "blockymetamaterials-fbuxbt7l-py3.9",
   "language": "python",
   "name": "python3"
  },
  "language_info": {
   "codemirror_mode": {
    "name": "ipython",
    "version": 3
   },
   "file_extension": ".py",
   "mimetype": "text/x-python",
   "name": "python",
   "nbconvert_exporter": "python",
   "pygments_lexer": "ipython3",
   "version": "3.9.16"
  },
  "orig_nbformat": 4
 },
 "nbformat": 4,
 "nbformat_minor": 2
}
